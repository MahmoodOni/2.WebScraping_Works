{
 "cells": [
  {
   "cell_type": "code",
   "execution_count": 13,
   "id": "d1f79783",
   "metadata": {},
   "outputs": [
    {
     "name": "stdout",
     "output_type": "stream",
     "text": [
      "                                    Exhibitor Name   Exhibitor Booth\n",
      "0                                      Freund GmbH  Hall 10.1 | F042\n",
      "1                                Interaktive Kunst   Hall 4.2 | B016\n",
      "2                         E.S. Kluft & Company LLC   Hall 9.1 | B023\n",
      "3           Christine Kröncke Interior Design GmbH   Hall 4.2 | B028\n",
      "4                1 DÜNYA YATAK SAN. TIC. LTD. STI.   Hall 9.1 | A034\n",
      "..                                             ...               ...\n",
      "724  Zhengzhou Ledrem Network Technology Co., Ltd.   Hall 8.1 | B043\n",
      "725                  ZHONGLONG FURNITURE CO., LTD.  Hall 7.1 | C060a\n",
      "726  ZIBO LIYAN HOME FURNISHING TECHNOLOGY CO.,LTD   Hall 8.1 | C056\n",
      "727                                  Zijlstra B.V.   Hall 7.1 | D030\n",
      "728       Zoy Overseas Furniture (Zhejiang) Co,Ltd  Hall 10.1 | H009\n",
      "\n",
      "[729 rows x 2 columns]\n"
     ]
    }
   ],
   "source": [
    "import requests\n",
    "from bs4 import BeautifulSoup\n",
    "import pandas as pd\n",
    "\n",
    "def extract_text(tag):\n",
    "    return tag.text.strip() if tag else ''\n",
    "\n",
    "def scrape_data_from_child_url(child_url):\n",
    "    response = requests.get(child_url)\n",
    "    all_data = []\n",
    "    \n",
    "    if response.status_code == 200:\n",
    "        soup = BeautifulSoup(response.content, 'html.parser')\n",
    "        \n",
    "        # Scraping info\n",
    "        company_divs = soup.find_all('div', class_='col_3 clfix')\n",
    "        for company_div in company_divs:\n",
    "            company_name_div = company_div.find('div', class_='col col1ergebnis')\n",
    "            company_name = company_name_div.find('strong').text.strip() if company_name_div else ''\n",
    "            \n",
    "            booth_div = company_div.find('div', class_='col advertP col3ergebnis')\n",
    "            company_booth = booth_div.text.strip() if booth_div else ''\n",
    "            \n",
    "            data = {\n",
    "                'Exhibitor Name': company_name,\n",
    "                'Exhibitor Booth': company_booth\n",
    "            }\n",
    "            all_data.append(data)\n",
    "        \n",
    "    else:\n",
    "        print(f\"Failed to retrieve the webpage. Status code: {response.status_code}\")\n",
    "    \n",
    "    #print(f\"Scraped {len(all_data)} entries from {child_url}\")  # Add this line for debugging\n",
    "    return all_data\n",
    "\n",
    "\n",
    "def main():\n",
    "    parent_url = 'https://www.imm-cologne.com/imm-cologne-exhibitors/list-of-exhibitors/'\n",
    "    child_urls = []\n",
    "\n",
    "    for page_number in range(1, 38):\n",
    "        start_value = (page_number - 1) * 20\n",
    "        page_url = f\"{parent_url}?route=aussteller/blaettern&&start={start_value}&paginatevalues=%7B%22stichwort%22%3A%22%22%2C%22suchart%22%3A%22alle%22%7D\"\n",
    "        child_urls.append(page_url)\n",
    "    \n",
    "    all_data = []\n",
    "    for child_url in child_urls:\n",
    "        data = scrape_data_from_child_url(child_url)\n",
    "        if data:  # Check if data is not empty\n",
    "            all_data.extend(data)\n",
    "    \n",
    "    if all_data:  # Check if all_data is not empty\n",
    "        df = pd.DataFrame(all_data)\n",
    "        return df\n",
    "    else:\n",
    "        print(\"No data scraped.\")\n",
    "        return pd.DataFrame()  # Return an empty DataFrame\n",
    "\n",
    "# Example usage\n",
    "result_df = main()\n",
    "print(result_df)\n",
    "\n"
   ]
  },
  {
   "cell_type": "code",
   "execution_count": 14,
   "id": "8eaadcdd",
   "metadata": {},
   "outputs": [],
   "source": [
    "#result_df.to_excel('G:\\ONI-5\\Final\\Final_Booth.xlsx', index=False)"
   ]
  },
  {
   "cell_type": "code",
   "execution_count": null,
   "id": "0a4e98e2",
   "metadata": {},
   "outputs": [],
   "source": []
  },
  {
   "cell_type": "code",
   "execution_count": null,
   "id": "d8879611",
   "metadata": {},
   "outputs": [],
   "source": []
  }
 ],
 "metadata": {
  "kernelspec": {
   "display_name": "Python 3 (ipykernel)",
   "language": "python",
   "name": "python3"
  },
  "language_info": {
   "codemirror_mode": {
    "name": "ipython",
    "version": 3
   },
   "file_extension": ".py",
   "mimetype": "text/x-python",
   "name": "python",
   "nbconvert_exporter": "python",
   "pygments_lexer": "ipython3",
   "version": "3.11.4"
  }
 },
 "nbformat": 4,
 "nbformat_minor": 5
}
